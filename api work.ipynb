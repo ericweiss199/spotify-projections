{
 "cells": [
  {
   "cell_type": "code",
   "execution_count": 2,
   "metadata": {},
   "outputs": [],
   "source": [
    "import sys\n",
    "import spotipy\n",
    "import spotipy.util as util\n",
    "from spotipy.oauth2 import SpotifyClientCredentials"
   ]
  },
  {
   "cell_type": "code",
   "execution_count": 3,
   "metadata": {},
   "outputs": [],
   "source": [
    "client_credentials_manager = SpotifyClientCredentials()\n",
    "sp = spotipy.Spotify(client_credentials_manager=client_credentials_manager)\n",
    "\n",
    "world = sp.playlist_tracks('37i9dQZEVXbMDoHDwVN2tF', fields=None, limit=100, offset=0, market=None)\n",
    "us = sp.playlist_tracks('37i9dQZEVXbLRQDuF5jeBp', fields=None, limit=100, offset=0, market=None)\n",
    "\n"
   ]
  },
  {
   "cell_type": "code",
   "execution_count": 4,
   "metadata": {},
   "outputs": [
    {
     "ename": "TypeError",
     "evalue": "'NoneType' object does not support item deletion",
     "output_type": "error",
     "traceback": [
      "\u001b[0;31m---------------------------------------------------------------------------\u001b[0m",
      "\u001b[0;31mTypeError\u001b[0m                                 Traceback (most recent call last)",
      "\u001b[0;32m<ipython-input-4-d7bbdec327e2>\u001b[0m in \u001b[0;36m<module>\u001b[0;34m\u001b[0m\n\u001b[1;32m     12\u001b[0m     \u001b[0mkeys_to_remove\u001b[0m \u001b[0;34m=\u001b[0m \u001b[0;34m[\u001b[0m\u001b[0;34m'type'\u001b[0m\u001b[0;34m,\u001b[0m \u001b[0;34m'id'\u001b[0m\u001b[0;34m,\u001b[0m \u001b[0;34m'uri'\u001b[0m\u001b[0;34m,\u001b[0m \u001b[0;34m'track_href'\u001b[0m\u001b[0;34m,\u001b[0m \u001b[0;34m'analysis_url'\u001b[0m\u001b[0;34m,\u001b[0m \u001b[0;34m'key'\u001b[0m\u001b[0;34m,\u001b[0m \u001b[0;34m'mode'\u001b[0m\u001b[0;34m,\u001b[0m \u001b[0;34m'time_signature'\u001b[0m\u001b[0;34m]\u001b[0m\u001b[0;34m\u001b[0m\u001b[0;34m\u001b[0m\u001b[0m\n\u001b[1;32m     13\u001b[0m     \u001b[0;32mfor\u001b[0m \u001b[0mkey\u001b[0m \u001b[0;32min\u001b[0m \u001b[0mkeys_to_remove\u001b[0m\u001b[0;34m:\u001b[0m\u001b[0;34m\u001b[0m\u001b[0;34m\u001b[0m\u001b[0m\n\u001b[0;32m---> 14\u001b[0;31m         \u001b[0;32mdel\u001b[0m \u001b[0mw_aud\u001b[0m\u001b[0;34m[\u001b[0m\u001b[0mkey\u001b[0m\u001b[0;34m]\u001b[0m\u001b[0;34m\u001b[0m\u001b[0;34m\u001b[0m\u001b[0m\n\u001b[0m\u001b[1;32m     15\u001b[0m \u001b[0;34m\u001b[0m\u001b[0m\n\u001b[1;32m     16\u001b[0m     key_list = ['danceability', 'energy', 'loudness', 'speechiness', 'acousticness',\n",
      "\u001b[0;31mTypeError\u001b[0m: 'NoneType' object does not support item deletion"
     ]
    }
   ],
   "source": [
    "world_songs = []\n",
    "for i in range(len(world['items'])):\n",
    "    lst = []\n",
    "    lst.append(world['items'][i]['track']['id'])\n",
    "    lst.append(i+1)\n",
    "    lst.append(world['items'][i]['track']['popularity'])\n",
    "    \n",
    "    w_id = world['items'][i]['track']['id']\n",
    "    w_aud = sp.audio_features(w_id)\n",
    "    w_aud = w_aud[0]\n",
    "    \n",
    "    keys_to_remove = ['type', 'id', 'uri', 'track_href', 'analysis_url', 'key', 'mode', 'time_signature']\n",
    "    for key in keys_to_remove:\n",
    "        del w_aud[key]\n",
    "        \n",
    "    key_list = ['danceability', 'energy', 'loudness', 'speechiness', 'acousticness',\n",
    "                'instrumentalness', 'liveness', 'valence', 'tempo', 'duration_ms']\n",
    "    for key in key_list:\n",
    "        lst.append(w_aud[key])\n",
    "        \n",
    "    world_songs.append(lst)\n",
    "    "
   ]
  },
  {
   "cell_type": "code",
   "execution_count": null,
   "metadata": {},
   "outputs": [],
   "source": [
    "us_songs = []\n",
    "for i in range(len(us['items'])):\n",
    "    lst = []\n",
    "    lst.append(us['items'][i]['track']['id'])\n",
    "    lst.append(i+1)\n",
    "    lst.append(us['items'][i]['track']['popularity'])\n",
    "    \n",
    "    u_id = world['items'][i]['track']['id']\n",
    "    u_aud = sp.audio_features(u_id)\n",
    "    u_aud = u_aud[0]\n",
    "    \n",
    "    keys_to_remove = ['type', 'id', 'uri', 'track_href', 'analysis_url', 'key', 'mode', 'time_signature']\n",
    "    for key in keys_to_remove:\n",
    "        del u_aud[key]\n",
    "        \n",
    "    key_list = ['danceability', 'energy', 'loudness', 'speechiness', 'acousticness',\n",
    "                'instrumentalness', 'liveness', 'valence', 'tempo', 'duration_ms']\n",
    "    for key in key_list:\n",
    "        lst.append(u_aud[key])\n",
    "    \n",
    "    us_songs.append(lst)\n",
    "print(us_songs)\n",
    "    "
   ]
  },
  {
   "cell_type": "code",
   "execution_count": null,
   "metadata": {},
   "outputs": [],
   "source": [
    "import pandas as pd \n",
    "import numpy as np\n",
    "\n",
    "world_data = pd.DataFrame(world_songs)\n",
    "usa_data = pd.DataFrame(us_songs)\n"
   ]
  },
  {
   "cell_type": "code",
   "execution_count": null,
   "metadata": {},
   "outputs": [],
   "source": [
    "world_data.columns = ['id','rank','popularity','danceability', 'energy', 'loudness', 'speechiness', 'acousticness',\n",
    "                'instrumentalness', 'liveness', 'valence', 'tempo', 'duration_ms']\n",
    "\n",
    "usa_data.columns = ['id','rank','popularity','danceability', 'energy', 'loudness', 'speechiness', 'acousticness',\n",
    "                'instrumentalness', 'liveness', 'valence', 'tempo', 'duration_ms']\n",
    "\n",
    "print(world_data)"
   ]
  },
  {
   "cell_type": "code",
   "execution_count": null,
   "metadata": {},
   "outputs": [],
   "source": [
    "usa_datanoid = usa_data.drop(['id','rank'], axis=1)\n",
    "world_datanoid = world_data.drop(['id','rank'], axis=1)\n",
    "\n",
    "usa_corr = usa_datanoid.corr()\n",
    "world_corr = world_datanoid.corr()\n",
    "#print(usa_corr['popularity'].sort_values(ascending=False)[1:11])\n",
    "#print(world_corr['popularity'].sort_values(ascending=False)[1:11])\n",
    "print(world_datanoid)"
   ]
  },
  {
   "cell_type": "code",
   "execution_count": null,
   "metadata": {},
   "outputs": [],
   "source": []
  }
 ],
 "metadata": {
  "kernelspec": {
   "display_name": "Python 3",
   "language": "python",
   "name": "python3"
  },
  "language_info": {
   "codemirror_mode": {
    "name": "ipython",
    "version": 3
   },
   "file_extension": ".py",
   "mimetype": "text/x-python",
   "name": "python",
   "nbconvert_exporter": "python",
   "pygments_lexer": "ipython3",
   "version": "3.7.6"
  }
 },
 "nbformat": 4,
 "nbformat_minor": 4
}
